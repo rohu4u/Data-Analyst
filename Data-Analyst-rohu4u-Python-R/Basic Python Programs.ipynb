{
 "cells": [
  {
   "cell_type": "markdown",
   "id": "062663f9",
   "metadata": {},
   "source": [
    "# Basic Program"
   ]
  },
  {
   "cell_type": "markdown",
   "id": "3e74c63f",
   "metadata": {},
   "source": [
    "### 1. Write Python Programs to use various operators in Python"
   ]
  },
  {
   "cell_type": "code",
   "execution_count": 1,
   "id": "6d39a7af",
   "metadata": {},
   "outputs": [
    {
     "name": "stdout",
     "output_type": "stream",
     "text": [
      "a + b  = 37\n",
      "a-b = -9\n",
      "a*b = 322\n",
      "a/b = 0.6086956521739131\n",
      "a % b = 14\n",
      "a ** b = 229585692886981495482220544\n",
      "a > b is False\n",
      "a < b is True\n",
      "a == b is False\n",
      "a != b is True\n",
      "a >= b is False\n",
      "a <= b is True\n"
     ]
    }
   ],
   "source": [
    "a =14\n",
    "b = 23\n",
    "\n",
    "print('a + b  =',a+b)\n",
    "\n",
    "print('a-b =',a-b)\n",
    "\n",
    "print('a*b =',a*b)\n",
    "\n",
    "print('a/b =',a/b)\n",
    "\n",
    "print('a % b =',a%b)\n",
    "\n",
    "print('a ** b =',a**b)\n",
    "\n",
    "\n",
    "print('a > b is',a>b)\n",
    "\n",
    "print('a < b is',a<b)\n",
    "\n",
    "print('a == b is',a==b)\n",
    "\n",
    "print('a != b is',a!=b)\n",
    "\n",
    "print('a >= b is',a>=b)\n",
    "\n",
    "print('a <= b is',a<=b)"
   ]
  },
  {
   "cell_type": "markdown",
   "id": "2d00055b",
   "metadata": {},
   "source": [
    "### 2. Create list of elements and slice and dice it"
   ]
  },
  {
   "cell_type": "code",
   "execution_count": 2,
   "id": "ccd1dc2d",
   "metadata": {},
   "outputs": [
    {
     "data": {
      "text/plain": [
       "[5, 14, 22, 45, 67, 47, 89]"
      ]
     },
     "execution_count": 2,
     "metadata": {},
     "output_type": "execute_result"
    }
   ],
   "source": [
    "list1 = [5, 14,22,45,67,47,89]\n",
    "list1"
   ]
  },
  {
   "cell_type": "code",
   "execution_count": 3,
   "id": "b0661a48",
   "metadata": {},
   "outputs": [
    {
     "data": {
      "text/plain": [
       "[22, 45]"
      ]
     },
     "execution_count": 3,
     "metadata": {},
     "output_type": "execute_result"
    }
   ],
   "source": [
    "list1[2:4]"
   ]
  },
  {
   "cell_type": "code",
   "execution_count": 4,
   "id": "f7cf2b40",
   "metadata": {},
   "outputs": [
    {
     "data": {
      "text/plain": [
       "[5, 14, 22, 45, 67]"
      ]
     },
     "execution_count": 4,
     "metadata": {},
     "output_type": "execute_result"
    }
   ],
   "source": [
    "list1[:-2]"
   ]
  },
  {
   "cell_type": "code",
   "execution_count": 5,
   "id": "e531b36f",
   "metadata": {},
   "outputs": [
    {
     "data": {
      "text/plain": [
       "[5, 14, 22, 45, 67, 47, 89]"
      ]
     },
     "execution_count": 5,
     "metadata": {},
     "output_type": "execute_result"
    }
   ],
   "source": [
    "list1[:]"
   ]
  },
  {
   "cell_type": "markdown",
   "id": "9b00e23e",
   "metadata": {},
   "source": [
    "### 3. Using while loop accept numbers until sum of numbers is less than 100"
   ]
  },
  {
   "cell_type": "code",
   "execution_count": 6,
   "id": "78ffe02a",
   "metadata": {},
   "outputs": [
    {
     "name": "stdin",
     "output_type": "stream",
     "text": [
      "Enter a number:  2\n",
      "Enter another number:  5\n",
      "Enter another number:  7\n",
      "Enter another number:  45\n",
      "Enter another number:  55\n"
     ]
    }
   ],
   "source": [
    "num = int(input(\"Enter a number: \"))\n",
    "sum = 0\n",
    "sum= sum+num\n",
    "while sum< 100:\n",
    "    if sum < 100:\n",
    "        num = int(input(\"Enter another number: \"))\n",
    "        sum = sum + num\n",
    "    elif sum>100:\n",
    "        print('Sum is greater than 100')"
   ]
  },
  {
   "cell_type": "markdown",
   "id": "ac274d6a",
   "metadata": {},
   "source": [
    "### 4. Write a python program Read & write Excel files "
   ]
  },
  {
   "cell_type": "code",
   "execution_count": 7,
   "id": "40cadfc0",
   "metadata": {},
   "outputs": [
    {
     "name": "stdout",
     "output_type": "stream",
     "text": [
      "Requirement already satisfied: openpyxl in c:\\users\\rohan\\anaconda3\\lib\\site-packages (3.0.10)\n",
      "Requirement already satisfied: et_xmlfile in c:\\users\\rohan\\anaconda3\\lib\\site-packages (from openpyxl) (1.1.0)\n"
     ]
    }
   ],
   "source": [
    "!pip install openpyxl"
   ]
  },
  {
   "cell_type": "code",
   "execution_count": 8,
   "id": "45807015-6047-4cf3-b86d-7b611c894b97",
   "metadata": {},
   "outputs": [],
   "source": [
    "import openpyxl\n",
    "my_wb = openpyxl.Workbook()\n",
    "my_sheet = my_wb.active\n",
    "c1 = my_sheet.cell(row = 1, column = 1)\n",
    "c1.value = \"Rohan\"\n",
    "c2 = my_sheet.cell(row= 1 , column = 2)\n",
    "c2.value = \"Aditi\"\n",
    "c3 = my_sheet['A2']\n",
    "c3.value = \"97\"\n",
    "# B2 = column = 2 & row = 2.\n",
    "c4 = my_sheet['B2']\n",
    "c4.value = \"92\"\n",
    "my_wb.save(\"C:\\\\Users\\\\ROHAN\\\\Downloads\\\\Book1.xlsx\")"
   ]
  },
  {
   "cell_type": "code",
   "execution_count": 9,
   "id": "b7e1f70d-76c6-4cd4-8386-5cb26d8f07ca",
   "metadata": {},
   "outputs": [
    {
     "data": {
      "text/html": [
       "<div>\n",
       "<style scoped>\n",
       "    .dataframe tbody tr th:only-of-type {\n",
       "        vertical-align: middle;\n",
       "    }\n",
       "\n",
       "    .dataframe tbody tr th {\n",
       "        vertical-align: top;\n",
       "    }\n",
       "\n",
       "    .dataframe thead th {\n",
       "        text-align: right;\n",
       "    }\n",
       "</style>\n",
       "<table border=\"1\" class=\"dataframe\">\n",
       "  <thead>\n",
       "    <tr style=\"text-align: right;\">\n",
       "      <th></th>\n",
       "      <th>Rohan</th>\n",
       "      <th>Aditi</th>\n",
       "    </tr>\n",
       "  </thead>\n",
       "  <tbody>\n",
       "    <tr>\n",
       "      <th>0</th>\n",
       "      <td>97</td>\n",
       "      <td>92</td>\n",
       "    </tr>\n",
       "  </tbody>\n",
       "</table>\n",
       "</div>"
      ],
      "text/plain": [
       "   Rohan  Aditi\n",
       "0     97     92"
      ]
     },
     "execution_count": 9,
     "metadata": {},
     "output_type": "execute_result"
    }
   ],
   "source": [
    "import pandas as pd\n",
    "book = pd.read_excel('C:\\\\Users\\\\ROHAN\\\\Downloads\\\\Book1.xlsx')\n",
    "book"
   ]
  },
  {
   "cell_type": "markdown",
   "id": "6d0891e8",
   "metadata": {},
   "source": [
    "###  5. Write a python program to scrape reviews from a commercial web site"
   ]
  },
  {
   "cell_type": "code",
   "execution_count": 10,
   "id": "e0fbf89b-e65c-45b7-8983-7c40bdf89350",
   "metadata": {},
   "outputs": [
    {
     "name": "stdout",
     "output_type": "stream",
     "text": [
      "Requirement already satisfied: requests in c:\\users\\rohan\\anaconda3\\lib\\site-packages (2.28.1)\n",
      "Requirement already satisfied: charset-normalizer<3,>=2 in c:\\users\\rohan\\anaconda3\\lib\\site-packages (from requests) (2.0.4)\n",
      "Requirement already satisfied: certifi>=2017.4.17 in c:\\users\\rohan\\anaconda3\\lib\\site-packages (from requests) (2022.6.15)\n",
      "Requirement already satisfied: idna<4,>=2.5 in c:\\users\\rohan\\anaconda3\\lib\\site-packages (from requests) (3.3)\n",
      "Requirement already satisfied: urllib3<1.27,>=1.21.1 in c:\\users\\rohan\\anaconda3\\lib\\site-packages (from requests) (1.26.11)\n"
     ]
    }
   ],
   "source": [
    "!pip install requests"
   ]
  },
  {
   "cell_type": "code",
   "execution_count": 15,
   "id": "dd296d07-b500-4bb7-b0ea-21355e24e4d0",
   "metadata": {},
   "outputs": [],
   "source": [
    "import requests\n",
    "from bs4 import BeautifulSoup"
   ]
  },
  {
   "cell_type": "code",
   "execution_count": 16,
   "id": "02fcdf77-aeb8-49cc-b07f-7e6d028def83",
   "metadata": {},
   "outputs": [],
   "source": [
    "url = \"https://www.amazon.in/Columbia-Mens-wind-\\\n",
    "resistant-Glove/dp/B0772WVHPS/?_encoding=UTF8&pd_rd\\\n",
    "_w=d9RS9&pf_rd_p=3d2ae0df-d986-4d1d-8c95-aa25d2ade606&pf\\\n",
    "_rd_r=7MP3ZDYBBV88PYJ7KEMJ&pd_rd_r=550bec4d-5268-41d5-\\\n",
    "87cb-8af40554a01e&pd_rd_wg=oy8v8&ref_=pd_gw_cr_cartx&th=1\""
   ]
  },
  {
   "cell_type": "code",
   "execution_count": 17,
   "id": "7849ac21-ec20-418a-973d-152e002feaa0",
   "metadata": {},
   "outputs": [],
   "source": [
    "HEADERS = ({'User-Agent':\n",
    "            'Mozilla/5.0 (Windows NT 10.0; Win64; x64) \\\n",
    "            AppleWebKit/537.36 (KHTML, like Gecko) \\\n",
    "            Chrome/90.0.4430.212 Safari/537.36',\n",
    "            'Accept-Language': 'en-US, en;q=0.5'})"
   ]
  },
  {
   "cell_type": "code",
   "execution_count": 18,
   "id": "c8be4c80-9e39-4206-916f-32ac4c36e7d4",
   "metadata": {},
   "outputs": [],
   "source": [
    "def getdata(url):\n",
    "    r = requests.get(url, headers=HEADERS)\n",
    "    return r.text\n",
    "\n",
    "def html_code(url):\n",
    "  \n",
    "    htmldata = getdata(url)\n",
    "    soup = BeautifulSoup(htmldata, 'html.parser')\n",
    "  \n",
    "    # display html code\n",
    "    return (soup)\n",
    "  \n",
    "soup = html_code(url)"
   ]
  },
  {
   "cell_type": "code",
   "execution_count": 22,
   "id": "ee4e4fd2",
   "metadata": {},
   "outputs": [],
   "source": [
    "def cus_rev(soup):\n",
    "\t# find the Html tag, with find() and convert into string\n",
    "    \n",
    "\tdata_str = \"\"\n",
    "\n",
    "\tfor item in soup.find_all(\"div\", class_=\"a-expander-content \\\n",
    "\treviewText review-text-content a-expander-partial-collapse-content\"):\n",
    "\t\tdata_str = data_str + item.get_text()\n",
    "\n",
    "\tresult = data_str.split(\"\\n\")\n",
    "\treturn (result)\n"
   ]
  },
  {
   "cell_type": "code",
   "execution_count": 26,
   "id": "f261aa78-343f-444a-9a0d-4893ba282284",
   "metadata": {},
   "outputs": [
    {
     "name": "stderr",
     "output_type": "stream",
     "text": [
      "<>:4: SyntaxWarning: \"is\" with a literal. Did you mean \"==\"?\n",
      "<>:4: SyntaxWarning: \"is\" with a literal. Did you mean \"==\"?\n",
      "C:\\Users\\ROHAN\\AppData\\Local\\Temp\\ipykernel_4268\\472862361.py:4: SyntaxWarning: \"is\" with a literal. Did you mean \"==\"?\n",
      "  if i is \"\":\n"
     ]
    },
    {
     "data": {
      "text/plain": [
       "[]"
      ]
     },
     "execution_count": 26,
     "metadata": {},
     "output_type": "execute_result"
    }
   ],
   "source": [
    "#rev_data = cus_rev(soup)\n",
    "rev_result = []\n",
    "for i in cus_rev(soup):\n",
    "\tif i is \"\":\n",
    "\t\tpass\n",
    "\telse:\n",
    "\t\trev_result.append(i)\n",
    "rev_result\n"
   ]
  },
  {
   "cell_type": "markdown",
   "id": "b4681883",
   "metadata": {},
   "source": [
    "### 6. Create a 3x3 matrix with values ranging from 2 to 10 using numpy"
   ]
  },
  {
   "cell_type": "code",
   "execution_count": null,
   "id": "19ecc652",
   "metadata": {},
   "outputs": [],
   "source": [
    "import numpy as np\n",
    "x =  np.arange(2, 11).reshape(3,3)\n",
    "print(x)"
   ]
  },
  {
   "cell_type": "markdown",
   "id": "c845632b",
   "metadata": {},
   "source": [
    "###  7. Write a Python program to convert a list of numeric value into a one-dimensional NumPy array"
   ]
  },
  {
   "cell_type": "code",
   "execution_count": null,
   "id": "d2b6aaf6",
   "metadata": {},
   "outputs": [],
   "source": [
    "l = [12.23, 13.32, 100, 36.32]\n",
    "print(\"Original List:\",l)\n",
    "a = np.array(l)\n",
    "print(\"One-dimensional NumPy array: \",a)"
   ]
  },
  {
   "cell_type": "markdown",
   "id": "90338d66",
   "metadata": {},
   "source": [
    "### 8. Write a Python program to create a null vector of size 10 and update sixth value to 11."
   ]
  },
  {
   "cell_type": "code",
   "execution_count": null,
   "id": "245ff75b",
   "metadata": {},
   "outputs": [],
   "source": [
    "x = np.zeros(10)\n",
    "print(x)\n",
    "print(\"Update sixth value to 11\")\n",
    "x[6] = 11\n",
    "print(x)"
   ]
  },
  {
   "cell_type": "code",
   "execution_count": null,
   "id": "369e4323",
   "metadata": {},
   "outputs": [],
   "source": []
  }
 ],
 "metadata": {
  "kernelspec": {
   "display_name": "Python 3 (ipykernel)",
   "language": "python",
   "name": "python3"
  },
  "language_info": {
   "codemirror_mode": {
    "name": "ipython",
    "version": 3
   },
   "file_extension": ".py",
   "mimetype": "text/x-python",
   "name": "python",
   "nbconvert_exporter": "python",
   "pygments_lexer": "ipython3",
   "version": "3.8.13"
  }
 },
 "nbformat": 4,
 "nbformat_minor": 5
}
